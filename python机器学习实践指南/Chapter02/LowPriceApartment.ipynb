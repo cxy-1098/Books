{
 "cells": [
  {
   "cell_type": "code",
   "execution_count": 1,
   "metadata": {
    "collapsed": true,
    "pycharm": {
     "is_executing": false
    }
   },
   "outputs": [],
   "source": [
    "import pandas as pd\n",
    "import re\n",
    "import numpy as np\n",
    "import matplotlib.pyplot as plt\n",
    "\n",
    "plt.style.use('ggplot')\n",
    "# matplotlib inline\n",
    "\n",
    "pd.set_option(\"display.max_columns\", 30)\n",
    "pd.set_option(\"display.max_colwidth\", 100)\n",
    "pd.set_option(\"display.precision\", 3)"
   ]
  },
  {
   "cell_type": "code",
   "execution_count": 2,
   "metadata": {
    "pycharm": {
     "is_executing": false,
     "name": "#%%\n"
    }
   },
   "outputs": [],
   "source": [
    "# 获取文件路径\n",
    "CSV_PATH = r\"E:\\OneDrive\\【Study】\\【1】编程设计\\Python\\Books\\Python机器学习实践指南\\Projects\\Chapter02/magic.csv\""
   ]
  },
  {
   "cell_type": "code",
   "execution_count": 3,
   "metadata": {
    "pycharm": {
     "is_executing": false,
     "name": "#%%\n"
    }
   },
   "outputs": [
    {
     "data": {
      "text/plain": "                                                                                                  0  \\\nroutablemask_link           http://www.zillow.com/b/2-Ellwood-St-New-York-NY/40.85899,-73.92814_ll/   \nroutablemask_link/_text                                                                    5 photos   \nroutablemask_link/_title                                                                        NaN   \nroutablemask_link_numbers                                                                         5   \nroutablemask_content                                                                            NaN   \nimagebadge_value                                                                           5 photos   \nimagebadge_value_numbers                                                                          5   \nroutable_link               http://www.zillow.com/b/2-Ellwood-St-New-York-NY/40.85899,-73.92814_ll/   \nroutable_link/_text                                                                    2 Ellwood St   \nroutable_link/_title                                  2 Ellwood St APT 5H, New York, NY Real Estate   \nroutable_link_numbers                                                                             2   \nlistingtype_value                                                               Apartments For Rent   \npricelarge_value                                                                                NaN   \npricelarge_value_prices                                                                         NaN   \npropertyinfo_value                                                       2 Ellwood St, New York, NY   \npropertyinfo_value_numbers                                                                        2   \nfineprint_value                                                                    6 matching units   \nfineprint_value_numbers                                                                           6   \ntozcount_number                                                                                 NaN   \ntozfresh_value                                                                        Updated today   \ntablegrouped_values            1 Bedrooms $1,500+ 1.0 ba -- sqft; 2 Bedrooms $1,750+ 1.0 ba -- sqft   \ntablegrouped_values_prices                                                               1500; 1750   \n_PAGE_NUMBER                                                                                      1   \n\n                                                                                                    1  \\\nroutablemask_link           http://www.zillow.com/b/603-W-140th-St-New-York-NY/40.82376,-73.95335_ll/   \nroutablemask_link/_text                                                                     10 photos   \nroutablemask_link/_title                                                                          NaN   \nroutablemask_link_numbers                                                                          10   \nroutablemask_content                                                                              NaN   \nimagebadge_value                                                                            10 photos   \nimagebadge_value_numbers                                                                           10   \nroutable_link               http://www.zillow.com/b/603-W-140th-St-New-York-NY/40.82376,-73.95335_ll/   \nroutable_link/_text                                                                    603 W 140th St   \nroutable_link/_title                                  603 W 140th St APT 44, New York, NY Real Estate   \nroutable_link_numbers                                                                        603; 140   \nlistingtype_value                                                                 Apartments For Rent   \npricelarge_value                                                                                  NaN   \npricelarge_value_prices                                                                           NaN   \npropertyinfo_value                                                       603 W 140th St, New York, NY   \npropertyinfo_value_numbers                                                                   603; 140   \nfineprint_value                                                                      2 matching units   \nfineprint_value_numbers                                                                             2   \ntozcount_number                                                                                   NaN   \ntozfresh_value                                                                          Updated today   \ntablegrouped_values            1 Bedrooms $2,100 1.0 ba 800 sqft; 2 Bedrooms $2,595 1.0 ba 1,000 sqft   \ntablegrouped_values_prices                                                                 2100; 2595   \n_PAGE_NUMBER                                                                                        1   \n\n                                                                                                              2  \\\nroutablemask_link           http://www.zillow.com/homedetails/9-E-129th-St-1-New-York-NY-10035/2100761096_zpid/   \nroutablemask_link/_text                                                                                     NaN   \nroutablemask_link/_title                                                                                    NaN   \nroutablemask_link_numbers                                                                                   NaN   \nroutablemask_content                                                                                        NaN   \nimagebadge_value                                                                                            NaN   \nimagebadge_value_numbers                                                                                    NaN   \nroutable_link               http://www.zillow.com/homedetails/9-E-129th-St-1-New-York-NY-10035/2100761096_zpid/   \nroutable_link/_text                                                         9 E 129th St # 1, New York, NY10035   \nroutable_link/_title                                                 9 E 129th St # 1, New York, NY Real Estate   \nroutable_link_numbers                                                                                 9; 129; 1   \nlistingtype_value                                                                            Apartment For Rent   \npricelarge_value                                                                                      $1,750/mo   \npricelarge_value_prices                                                                                1.75e+03   \npropertyinfo_value                                                                                  1 bd • 1 ba   \npropertyinfo_value_numbers                                                                                 1; 1   \nfineprint_value                                                                                             NaN   \nfineprint_value_numbers                                                                                     NaN   \ntozcount_number                                                                                              48   \ntozfresh_value                                                                                      minutes ago   \ntablegrouped_values                                                                                         NaN   \ntablegrouped_values_prices                                                                                  NaN   \n_PAGE_NUMBER                                                                                                  1   \n\n                                                                                                                      3  \\\nroutablemask_link           http://www.zillow.com/homedetails/710-Riverside-Dr-APT-2C-New-York-NY-10031/124451755_zpid/   \nroutablemask_link/_text                                                                                        9 photos   \nroutablemask_link/_title                                                                                            NaN   \nroutablemask_link_numbers                                                                                             9   \nroutablemask_content                                                                                                NaN   \nimagebadge_value                                                                                               9 photos   \nimagebadge_value_numbers                                                                                              9   \nroutable_link               http://www.zillow.com/homedetails/710-Riverside-Dr-APT-2C-New-York-NY-10031/124451755_zpid/   \nroutable_link/_text                                                          710 Riverside Dr APT 2C, New York, NY10031   \nroutable_link/_title                                                  710 Riverside Dr APT 2C, New York, NY Real Estate   \nroutable_link_numbers                                                                                            710; 2   \nlistingtype_value                                                                                    Apartment For Rent   \npricelarge_value                                                                                              $3,000/mo   \npricelarge_value_prices                                                                                           3e+03   \npropertyinfo_value                                                                            2 bds • 2 ba • 1,016 sqft   \npropertyinfo_value_numbers                                                                                   2; 2; 1016   \nfineprint_value                                                                                                     NaN   \nfineprint_value_numbers                                                                                             NaN   \ntozcount_number                                                                                                       1   \ntozfresh_value                                                                                                 hour ago   \ntablegrouped_values                                                                                                 NaN   \ntablegrouped_values_prices                                                                                          NaN   \n_PAGE_NUMBER                                                                                                          1   \n\n                                                                                                                   4  \nroutablemask_link           http://www.zillow.com/homedetails/413-E-84th-St-APT-8-New-York-NY-10028/2100761260_zpid/  \nroutablemask_link/_text                                                                                     5 photos  \nroutablemask_link/_title                                                                                         NaN  \nroutablemask_link_numbers                                                                                          5  \nroutablemask_content                                                                                             NaN  \nimagebadge_value                                                                                            5 photos  \nimagebadge_value_numbers                                                                                           5  \nroutable_link               http://www.zillow.com/homedetails/413-E-84th-St-APT-8-New-York-NY-10028/2100761260_zpid/  \nroutable_link/_text                                                           413 E 84th St APT 8, New York, NY10028  \nroutable_link/_title                                                   413 E 84th St APT 8, New York, NY Real Estate  \nroutable_link_numbers                                                                                     413; 84; 8  \nlistingtype_value                                                                                 Apartment For Rent  \npricelarge_value                                                                                           $2,300/mo  \npricelarge_value_prices                                                                                      2.3e+03  \npropertyinfo_value                                                                                     Studio • 1 ba  \npropertyinfo_value_numbers                                                                                         1  \nfineprint_value                                                                                                  NaN  \nfineprint_value_numbers                                                                                          NaN  \ntozcount_number                                                                                                    2  \ntozfresh_value                                                                                             hours ago  \ntablegrouped_values                                                                                              NaN  \ntablegrouped_values_prices                                                                                       NaN  \n_PAGE_NUMBER                                                                                                       1  ",
      "text/html": "<div>\n<style scoped>\n    .dataframe tbody tr th:only-of-type {\n        vertical-align: middle;\n    }\n\n    .dataframe tbody tr th {\n        vertical-align: top;\n    }\n\n    .dataframe thead th {\n        text-align: right;\n    }\n</style>\n<table border=\"1\" class=\"dataframe\">\n  <thead>\n    <tr style=\"text-align: right;\">\n      <th></th>\n      <th>0</th>\n      <th>1</th>\n      <th>2</th>\n      <th>3</th>\n      <th>4</th>\n    </tr>\n  </thead>\n  <tbody>\n    <tr>\n      <th>routablemask_link</th>\n      <td>http://www.zillow.com/b/2-Ellwood-St-New-York-NY/40.85899,-73.92814_ll/</td>\n      <td>http://www.zillow.com/b/603-W-140th-St-New-York-NY/40.82376,-73.95335_ll/</td>\n      <td>http://www.zillow.com/homedetails/9-E-129th-St-1-New-York-NY-10035/2100761096_zpid/</td>\n      <td>http://www.zillow.com/homedetails/710-Riverside-Dr-APT-2C-New-York-NY-10031/124451755_zpid/</td>\n      <td>http://www.zillow.com/homedetails/413-E-84th-St-APT-8-New-York-NY-10028/2100761260_zpid/</td>\n    </tr>\n    <tr>\n      <th>routablemask_link/_text</th>\n      <td>5 photos</td>\n      <td>10 photos</td>\n      <td>NaN</td>\n      <td>9 photos</td>\n      <td>5 photos</td>\n    </tr>\n    <tr>\n      <th>routablemask_link/_title</th>\n      <td>NaN</td>\n      <td>NaN</td>\n      <td>NaN</td>\n      <td>NaN</td>\n      <td>NaN</td>\n    </tr>\n    <tr>\n      <th>routablemask_link_numbers</th>\n      <td>5</td>\n      <td>10</td>\n      <td>NaN</td>\n      <td>9</td>\n      <td>5</td>\n    </tr>\n    <tr>\n      <th>routablemask_content</th>\n      <td>NaN</td>\n      <td>NaN</td>\n      <td>NaN</td>\n      <td>NaN</td>\n      <td>NaN</td>\n    </tr>\n    <tr>\n      <th>imagebadge_value</th>\n      <td>5 photos</td>\n      <td>10 photos</td>\n      <td>NaN</td>\n      <td>9 photos</td>\n      <td>5 photos</td>\n    </tr>\n    <tr>\n      <th>imagebadge_value_numbers</th>\n      <td>5</td>\n      <td>10</td>\n      <td>NaN</td>\n      <td>9</td>\n      <td>5</td>\n    </tr>\n    <tr>\n      <th>routable_link</th>\n      <td>http://www.zillow.com/b/2-Ellwood-St-New-York-NY/40.85899,-73.92814_ll/</td>\n      <td>http://www.zillow.com/b/603-W-140th-St-New-York-NY/40.82376,-73.95335_ll/</td>\n      <td>http://www.zillow.com/homedetails/9-E-129th-St-1-New-York-NY-10035/2100761096_zpid/</td>\n      <td>http://www.zillow.com/homedetails/710-Riverside-Dr-APT-2C-New-York-NY-10031/124451755_zpid/</td>\n      <td>http://www.zillow.com/homedetails/413-E-84th-St-APT-8-New-York-NY-10028/2100761260_zpid/</td>\n    </tr>\n    <tr>\n      <th>routable_link/_text</th>\n      <td>2 Ellwood St</td>\n      <td>603 W 140th St</td>\n      <td>9 E 129th St # 1, New York, NY10035</td>\n      <td>710 Riverside Dr APT 2C, New York, NY10031</td>\n      <td>413 E 84th St APT 8, New York, NY10028</td>\n    </tr>\n    <tr>\n      <th>routable_link/_title</th>\n      <td>2 Ellwood St APT 5H, New York, NY Real Estate</td>\n      <td>603 W 140th St APT 44, New York, NY Real Estate</td>\n      <td>9 E 129th St # 1, New York, NY Real Estate</td>\n      <td>710 Riverside Dr APT 2C, New York, NY Real Estate</td>\n      <td>413 E 84th St APT 8, New York, NY Real Estate</td>\n    </tr>\n    <tr>\n      <th>routable_link_numbers</th>\n      <td>2</td>\n      <td>603; 140</td>\n      <td>9; 129; 1</td>\n      <td>710; 2</td>\n      <td>413; 84; 8</td>\n    </tr>\n    <tr>\n      <th>listingtype_value</th>\n      <td>Apartments For Rent</td>\n      <td>Apartments For Rent</td>\n      <td>Apartment For Rent</td>\n      <td>Apartment For Rent</td>\n      <td>Apartment For Rent</td>\n    </tr>\n    <tr>\n      <th>pricelarge_value</th>\n      <td>NaN</td>\n      <td>NaN</td>\n      <td>$1,750/mo</td>\n      <td>$3,000/mo</td>\n      <td>$2,300/mo</td>\n    </tr>\n    <tr>\n      <th>pricelarge_value_prices</th>\n      <td>NaN</td>\n      <td>NaN</td>\n      <td>1.75e+03</td>\n      <td>3e+03</td>\n      <td>2.3e+03</td>\n    </tr>\n    <tr>\n      <th>propertyinfo_value</th>\n      <td>2 Ellwood St, New York, NY</td>\n      <td>603 W 140th St, New York, NY</td>\n      <td>1 bd • 1 ba</td>\n      <td>2 bds • 2 ba • 1,016 sqft</td>\n      <td>Studio • 1 ba</td>\n    </tr>\n    <tr>\n      <th>propertyinfo_value_numbers</th>\n      <td>2</td>\n      <td>603; 140</td>\n      <td>1; 1</td>\n      <td>2; 2; 1016</td>\n      <td>1</td>\n    </tr>\n    <tr>\n      <th>fineprint_value</th>\n      <td>6 matching units</td>\n      <td>2 matching units</td>\n      <td>NaN</td>\n      <td>NaN</td>\n      <td>NaN</td>\n    </tr>\n    <tr>\n      <th>fineprint_value_numbers</th>\n      <td>6</td>\n      <td>2</td>\n      <td>NaN</td>\n      <td>NaN</td>\n      <td>NaN</td>\n    </tr>\n    <tr>\n      <th>tozcount_number</th>\n      <td>NaN</td>\n      <td>NaN</td>\n      <td>48</td>\n      <td>1</td>\n      <td>2</td>\n    </tr>\n    <tr>\n      <th>tozfresh_value</th>\n      <td>Updated today</td>\n      <td>Updated today</td>\n      <td>minutes ago</td>\n      <td>hour ago</td>\n      <td>hours ago</td>\n    </tr>\n    <tr>\n      <th>tablegrouped_values</th>\n      <td>1 Bedrooms $1,500+ 1.0 ba -- sqft; 2 Bedrooms $1,750+ 1.0 ba -- sqft</td>\n      <td>1 Bedrooms $2,100 1.0 ba 800 sqft; 2 Bedrooms $2,595 1.0 ba 1,000 sqft</td>\n      <td>NaN</td>\n      <td>NaN</td>\n      <td>NaN</td>\n    </tr>\n    <tr>\n      <th>tablegrouped_values_prices</th>\n      <td>1500; 1750</td>\n      <td>2100; 2595</td>\n      <td>NaN</td>\n      <td>NaN</td>\n      <td>NaN</td>\n    </tr>\n    <tr>\n      <th>_PAGE_NUMBER</th>\n      <td>1</td>\n      <td>1</td>\n      <td>1</td>\n      <td>1</td>\n      <td>1</td>\n    </tr>\n  </tbody>\n</table>\n</div>"
     },
     "metadata": {},
     "output_type": "execute_result",
     "execution_count": 3
    }
   ],
   "source": [
    "# 读取csv数据\n",
    "df = pd.read_csv(CSV_PATH)\n",
    "df.columns      # 输出列标题\n",
    "df.head().T     # 查看数据某些样本，.T代表转置显示"
   ]
  },
  {
   "cell_type": "code",
   "execution_count": 4,
   "metadata": {
    "pycharm": {
     "is_executing": false,
     "name": "#%%\n"
    }
   },
   "outputs": [],
   "source": [
    "# 拆分listingtype_value为Apartments for rent和Apartment for rent\n",
    "# 多个单元multiple units\n",
    "mu = df[df['listingtype_value'].str.contains('Apartments For')]\n",
    "# 单个单元single units\n",
    "su = df[df['listingtype_value'].str.contains('Apartment For')]"
   ]
  },
  {
   "cell_type": "code",
   "execution_count": 5,
   "metadata": {
    "pycharm": {
     "is_executing": false
    }
   },
   "outputs": [
    {
     "data": {
      "text/plain": "161"
     },
     "metadata": {},
     "output_type": "execute_result",
     "execution_count": 5
    }
   ],
   "source": [
    "# 查看每种房源类型的数量\n",
    "len(mu)"
   ]
  },
  {
   "cell_type": "code",
   "execution_count": 6,
   "metadata": {
    "pycharm": {
     "is_executing": false
    }
   },
   "outputs": [
    {
     "data": {
      "text/plain": "339"
     },
     "metadata": {},
     "output_type": "execute_result",
     "execution_count": 6
    }
   ],
   "source": [
    "len(su)"
   ]
  },
  {
   "cell_type": "code",
   "execution_count": 7,
   "metadata": {
    "pycharm": {
     "is_executing": false
    }
   },
   "outputs": [
    {
     "data": {
      "text/plain": "2                    1 bd • 1 ba\n3      2 bds • 2 ba • 1,016 sqft\n4                  Studio • 1 ba\n5                   2 bds • 1 ba\n7                   2 bds • 1 ba\n                 ...            \n490                  1 bd • 1 ba\n492                  1 bd • 1 ba\n496                Studio • 1 ba\n497     Studio • 1 ba • 550 sqft\n499                  1 bd • 1 ba\nName: propertyinfo_value, Length: 339, dtype: object"
     },
     "metadata": {},
     "output_type": "execute_result",
     "execution_count": 7
    }
   ],
   "source": [
    "# 查看数据表中的某些数据\n",
    "# 使用su['propertyinfo_value']或使用su.propertyinfo_value\n",
    "# su代表数据表变量名，“.”后面的是要查询的title\n",
    "\n",
    "su['propertyinfo_value']"
   ]
  },
  {
   "cell_type": "code",
   "execution_count": 8,
   "outputs": [
    {
     "data": {
      "text/plain": "2                    1 bd • 1 ba\n3      2 bds • 2 ba • 1,016 sqft\n4                  Studio • 1 ba\n5                   2 bds • 1 ba\n7                   2 bds • 1 ba\n                 ...            \n490                  1 bd • 1 ba\n492                  1 bd • 1 ba\n496                Studio • 1 ba\n497     Studio • 1 ba • 550 sqft\n499                  1 bd • 1 ba\nName: propertyinfo_value, Length: 339, dtype: object"
     },
     "metadata": {},
     "output_type": "execute_result",
     "execution_count": 8
    }
   ],
   "source": [
    "su.propertyinfo_value"
   ],
   "metadata": {
    "collapsed": false,
    "pycharm": {
     "name": "#%%\n",
     "is_executing": false
    }
   }
  },
  {
   "cell_type": "code",
   "execution_count": 8,
   "outputs": [],
   "source": [
    "\n"
   ],
   "metadata": {
    "collapsed": false,
    "pycharm": {
     "name": "#%%\n",
     "is_executing": false
    }
   }
  }
 ],
 "metadata": {
  "kernelspec": {
   "display_name": "Python 3",
   "language": "python",
   "name": "python3"
  },
  "language_info": {
   "codemirror_mode": {
    "name": "ipython",
    "version": 3
   },
   "file_extension": ".py",
   "mimetype": "text/x-python",
   "name": "python",
   "nbconvert_exporter": "python",
   "pygments_lexer": "ipython3",
   "version": "3.7.5"
  },
  "pycharm": {
   "stem_cell": {
    "cell_type": "raw",
    "source": [
     "# 寻找低价公寓"
    ],
    "metadata": {
     "collapsed": false
    }
   }
  }
 },
 "nbformat": 4,
 "nbformat_minor": 1
}